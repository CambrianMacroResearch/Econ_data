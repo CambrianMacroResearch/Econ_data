{
 "cells": [
  {
   "cell_type": "code",
   "execution_count": null,
   "metadata": {
    "collapsed": true
   },
   "outputs": [],
   "source": [
    "import pandas as pd\n",
    "import requests\n",
    "import json\n",
    "\n",
    "\n",
    "def BEAdata(name, frequency, year, api_key='Add Your Key Here'):\n",
    "\n",
    "    url = f'https://apps.bea.gov/api/data/?UserID={api_key}' \\\n",
    "          f'&method=GetData' \\\n",
    "          f'&DataSetName=NIPA' \\\n",
    "          f'&TableName={name}' \\\n",
    "          f'&Frequency={frequency}' \\\n",
    "          f'&Year={year}' \\\n",
    "          f'&ResultFormat=JSON'\n",
    "\n",
    "    response = requests.get(url)\n",
    "    json_data = json.loads(response.text)\n",
    "\n",
    "    # Convert data to dataframe\n",
    "    df = pd.json_normalize(json_data['BEAAPI']['Results']['Data'])\n",
    "    df_filtered = df[['LineNumber', 'LineDescription', 'TimePeriod', 'DataValue']].copy()\n",
    "\n",
    "    # Convert the value to numbers\n",
    "    df_filtered['DataValue'] = pd.to_numeric(df_filtered['DataValue'], errors='coerce')\n",
    "\n",
    "    # Convert TimePeriod column into Date column\n",
    "    if frequency == 'M':\n",
    "        df_filtered['Date'] = pd.to_datetime(df_filtered['TimePeriod'].str[0:4]\n",
    "                                             + '-' + df_filtered['TimePeriod'].str[5:], format='%Y-%m')\n",
    "    else:\n",
    "        df_filtered['Date'] = df_filtered['TimePeriod']\n",
    "\n",
    "    return df_filtered\n",
    "\n",
    "\n",
    "# Example: To extract PCE data from BEA api\n",
    "\n",
    "data_PCE = BEAdata('T20804', 'M', '2019, 2020, 2021, 2022, 2023')\n",
    "df_PCE = data_PCE.loc[data_PCE['LineNumber'] == '1', ['Date', 'DataValue']]\n",
    "df_corePCE = data_PCE.loc[data_PCE['LineNumber'] == '6', ['Date', 'DataValue']]\n",
    "print(df_PCE)\n",
    "print(df_corePCE)"
   ]
  }
 ],
 "metadata": {
  "kernelspec": {
   "display_name": "Python 3",
   "language": "python",
   "name": "python3"
  },
  "language_info": {
   "codemirror_mode": {
    "name": "ipython",
    "version": 2
   },
   "file_extension": ".py",
   "mimetype": "text/x-python",
   "name": "python",
   "nbconvert_exporter": "python",
   "pygments_lexer": "ipython2",
   "version": "2.7.6"
  }
 },
 "nbformat": 4,
 "nbformat_minor": 0
}