{
 "cells": [
  {
   "cell_type": "code",
   "execution_count": null,
   "metadata": {
    "collapsed": true
   },
   "outputs": [],
   "source": [
    "import json\n",
    "import requests\n",
    "import pandas as pd\n",
    "\n",
    "\n",
    "def getBLSdata(seriesID, startYr, endYr, bls_key='Add Your Key Here'):\n",
    "\n",
    "    headers = {'Content-type': 'application/json'}\n",
    "    # api url\n",
    "    bls_api_url = 'https://api.bls.gov/publicAPI/v2/timeseries/data/'\n",
    "\n",
    "    # setup inputs to the api: series ID, start year, end year and api key\n",
    "    data = json.dumps({\"seriesid\": [seriesID], \"startyear\": startYr, \"endyear\": endYr, \"registrationKey\": bls_key})\n",
    "\n",
    "    # Initialize a list into which we will collect the data\n",
    "    series_list = []\n",
    "\n",
    "    # post to the api with inputs and get the output\n",
    "    p = requests.post(bls_api_url, data=data, headers=headers)\n",
    "    json_data = json.loads(p.text)\n",
    "\n",
    "    # return print(json_data)\n",
    "\n",
    "    # Parse the output into the list\n",
    "    for series in json_data['Results']['series']:\n",
    "        series_list = []\n",
    "        seriesid = series['seriesID']\n",
    "        for item in series['data']:\n",
    "            year = item['year']\n",
    "            period = item['period']\n",
    "            value = item['value']\n",
    "\n",
    "            if 'M01' <= period <= 'M12' or period <= 'A01':\n",
    "                series_list.append([seriesid, year, period, value])\n",
    "\n",
    "        return series_list\n",
    "\n",
    "\n",
    "def BLSdata(seriesID, startYr, endYr):\n",
    "    startYr = startYr\n",
    "    seriesID = seriesID\n",
    "    endYr = endYr\n",
    "    data = getBLSdata(seriesID, startYr, endYr)\n",
    "    # Convert list to DataFrame\n",
    "    df = pd.DataFrame(data, columns=['ID', 'Year', 'Month', 'Value'])\n",
    "\n",
    "    # Combine Year and Month columns into Date column\n",
    "    df['Date'] = pd.to_datetime(df['Year'].astype(str) + '-' + df['Month'].str[1:], format='%Y-%m')\n",
    "    df['Value'] = pd.to_numeric(df['Value'], errors='coerce')\n",
    "    return df\n",
    "\n",
    "\n",
    "# Example: to extract CPI data from BLS\n",
    "\n",
    "df_CPI = BLSdata('CUSR0000SA0', 2019, 2023)\n",
    "df_coreCPI = BLSdata('CUSR0000SA0L1E', 2019, 2023)\n",
    "print(df_CPI)\n",
    "print(df_coreCPI)"
   ]
  }
 ],
 "metadata": {
  "kernelspec": {
   "display_name": "Python 3",
   "language": "python",
   "name": "python3"
  },
  "language_info": {
   "codemirror_mode": {
    "name": "ipython",
    "version": 2
   },
   "file_extension": ".py",
   "mimetype": "text/x-python",
   "name": "python",
   "nbconvert_exporter": "python",
   "pygments_lexer": "ipython2",
   "version": "2.7.6"
  }
 },
 "nbformat": 4,
 "nbformat_minor": 0
}